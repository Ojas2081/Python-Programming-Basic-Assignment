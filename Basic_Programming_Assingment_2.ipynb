{
 "cells": [
  {
   "cell_type": "code",
   "execution_count": 1,
   "id": "e7ea0858",
   "metadata": {},
   "outputs": [
    {
     "name": "stdout",
     "output_type": "stream",
     "text": [
      "Conversion of kilometer to miles is 3.1068499999999997\n"
     ]
    }
   ],
   "source": [
    "# Q1). Write a Python program to convert kilometers to miles?\n",
    "\n",
    "def kiloToMiles(k):\n",
    "    m=k*0.62137\n",
    "    return m\n",
    "print(\"Conversion of kilometer to miles is \"+str(kiloToMiles(5)))\n"
   ]
  },
  {
   "cell_type": "code",
   "execution_count": 2,
   "id": "cffcd2cc",
   "metadata": {},
   "outputs": [
    {
     "data": {
      "text/plain": [
       "212.0"
      ]
     },
     "execution_count": 2,
     "metadata": {},
     "output_type": "execute_result"
    }
   ],
   "source": [
    "# Q2). Write a Python program to convert Celsius to Fahrenheit?\n",
    "\n",
    "def celsiusToFahrenheit(c):\n",
    "    f = ((c*9)/5) + 32 \n",
    "    return f\n",
    "celsiusToFahrenheit(100)"
   ]
  },
  {
   "cell_type": "code",
   "execution_count": 3,
   "id": "fbee44cc",
   "metadata": {},
   "outputs": [
    {
     "name": "stdout",
     "output_type": "stream",
     "text": [
      "Enter the year for Calendar2022\n",
      "                                  2022\n",
      "\n",
      "      January                   February                   March\n",
      "Mo Tu We Th Fr Sa Su      Mo Tu We Th Fr Sa Su      Mo Tu We Th Fr Sa Su\n",
      "                1  2          1  2  3  4  5  6          1  2  3  4  5  6\n",
      " 3  4  5  6  7  8  9       7  8  9 10 11 12 13       7  8  9 10 11 12 13\n",
      "10 11 12 13 14 15 16      14 15 16 17 18 19 20      14 15 16 17 18 19 20\n",
      "17 18 19 20 21 22 23      21 22 23 24 25 26 27      21 22 23 24 25 26 27\n",
      "24 25 26 27 28 29 30      28                        28 29 30 31\n",
      "31\n",
      "\n",
      "       April                      May                       June\n",
      "Mo Tu We Th Fr Sa Su      Mo Tu We Th Fr Sa Su      Mo Tu We Th Fr Sa Su\n",
      "             1  2  3                         1             1  2  3  4  5\n",
      " 4  5  6  7  8  9 10       2  3  4  5  6  7  8       6  7  8  9 10 11 12\n",
      "11 12 13 14 15 16 17       9 10 11 12 13 14 15      13 14 15 16 17 18 19\n",
      "18 19 20 21 22 23 24      16 17 18 19 20 21 22      20 21 22 23 24 25 26\n",
      "25 26 27 28 29 30         23 24 25 26 27 28 29      27 28 29 30\n",
      "                          30 31\n",
      "\n",
      "        July                     August                  September\n",
      "Mo Tu We Th Fr Sa Su      Mo Tu We Th Fr Sa Su      Mo Tu We Th Fr Sa Su\n",
      "             1  2  3       1  2  3  4  5  6  7                1  2  3  4\n",
      " 4  5  6  7  8  9 10       8  9 10 11 12 13 14       5  6  7  8  9 10 11\n",
      "11 12 13 14 15 16 17      15 16 17 18 19 20 21      12 13 14 15 16 17 18\n",
      "18 19 20 21 22 23 24      22 23 24 25 26 27 28      19 20 21 22 23 24 25\n",
      "25 26 27 28 29 30 31      29 30 31                  26 27 28 29 30\n",
      "\n",
      "      October                   November                  December\n",
      "Mo Tu We Th Fr Sa Su      Mo Tu We Th Fr Sa Su      Mo Tu We Th Fr Sa Su\n",
      "                1  2          1  2  3  4  5  6                1  2  3  4\n",
      " 3  4  5  6  7  8  9       7  8  9 10 11 12 13       5  6  7  8  9 10 11\n",
      "10 11 12 13 14 15 16      14 15 16 17 18 19 20      12 13 14 15 16 17 18\n",
      "17 18 19 20 21 22 23      21 22 23 24 25 26 27      19 20 21 22 23 24 25\n",
      "24 25 26 27 28 29 30      28 29 30                  26 27 28 29 30 31\n",
      "31\n",
      "\n"
     ]
    }
   ],
   "source": [
    "# Q3). Write a Python program to display calendar?\n",
    "\n",
    "import calendar\n",
    "year = int(input(\"Enter the year for Calendar\"))\n",
    "print (calendar.calendar(year))"
   ]
  },
  {
   "cell_type": "code",
   "execution_count": 4,
   "id": "12276401",
   "metadata": {},
   "outputs": [
    {
     "name": "stdout",
     "output_type": "stream",
     "text": [
      "Enter coefficient of x square 1\n",
      "Enter coefficient of x 4\n",
      "Enter constant value 5\n",
      "Solutions are (-2+1j) and (-2-1j)\n"
     ]
    }
   ],
   "source": [
    "# Q4). Write a Python program to solve quadratic equation?\n",
    "\n",
    "a=int(input(\"Enter coefficient of x square \"))\n",
    "b=int(input(\"Enter coefficient of x \"))\n",
    "c=int(input(\"Enter constant value \"))\n",
    "d = (b**2) - (4*a*c)\n",
    "sol1 = ((-b)+(d**0.5))/2*a\n",
    "sol2 = ((-b)-(d**0.5))/2*a\n",
    "print(f\"Solutions are {sol1} and {sol2}\")"
   ]
  },
  {
   "cell_type": "code",
   "execution_count": 5,
   "id": "9fa9a8dd",
   "metadata": {},
   "outputs": [
    {
     "data": {
      "text/plain": [
       "(6, 3)"
      ]
     },
     "execution_count": 5,
     "metadata": {},
     "output_type": "execute_result"
    }
   ],
   "source": [
    "# Q5). Write a Python program to swap two variables without temp variable?\n",
    "\n",
    "def swap(a,b):\n",
    "    a = a + b\n",
    "    b = a - b\n",
    "    a = a - b\n",
    "    return a,b\n",
    "swap(3,6)"
   ]
  },
  {
   "cell_type": "code",
   "execution_count": null,
   "id": "8c116c03",
   "metadata": {},
   "outputs": [],
   "source": []
  }
 ],
 "metadata": {
  "kernelspec": {
   "display_name": "Python 3 (ipykernel)",
   "language": "python",
   "name": "python3"
  },
  "language_info": {
   "codemirror_mode": {
    "name": "ipython",
    "version": 3
   },
   "file_extension": ".py",
   "mimetype": "text/x-python",
   "name": "python",
   "nbconvert_exporter": "python",
   "pygments_lexer": "ipython3",
   "version": "3.9.7"
  }
 },
 "nbformat": 4,
 "nbformat_minor": 5
}
