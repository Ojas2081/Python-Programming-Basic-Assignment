{
 "cells": [
  {
   "cell_type": "markdown",
   "metadata": {},
   "source": [
    "Q1). Write a Python Program to Find LCM?"
   ]
  },
  {
   "cell_type": "code",
   "execution_count": null,
   "metadata": {},
   "outputs": [],
   "source": [
    "def lcm(a,b):\n",
    "  if(a>b):\n",
    "    larger=b\n",
    "  else:\n",
    "    larger=a\n",
    "  \n",
    "  for i in range(larger,(a*b)+1):\n",
    "    if(i%a == 0 and i%b == 0):\n",
    "      break\n",
    "  return i"
   ]
  },
  {
   "cell_type": "code",
   "execution_count": 5,
   "metadata": {},
   "outputs": [
    {
     "data": {
      "text/plain": [
       "216"
      ]
     },
     "execution_count": 5,
     "metadata": {},
     "output_type": "execute_result"
    }
   ],
   "source": [
    "lcm(54,24)"
   ]
  },
  {
   "cell_type": "markdown",
   "metadata": {},
   "source": [
    "Q2). Write a Python Program to Find HCF?"
   ]
  },
  {
   "cell_type": "code",
   "execution_count": 13,
   "metadata": {},
   "outputs": [],
   "source": [
    "def hcf(a,b):\n",
    "  low = a if a<b else b\n",
    "  for i in range(a+1,1,-1):\n",
    "    if(a%i==0 and b%i==0):\n",
    "      break\n",
    "  return i"
   ]
  },
  {
   "cell_type": "code",
   "execution_count": 14,
   "metadata": {},
   "outputs": [
    {
     "data": {
      "text/plain": [
       "2"
      ]
     },
     "execution_count": 14,
     "metadata": {},
     "output_type": "execute_result"
    }
   ],
   "source": [
    "hcf(2,4)"
   ]
  },
  {
   "cell_type": "markdown",
   "metadata": {},
   "source": [
    "Q3). Write a Python Program to Convert Decimal to Binary, Octal and Hexadecimal?"
   ]
  },
  {
   "cell_type": "code",
   "execution_count": 17,
   "metadata": {},
   "outputs": [],
   "source": [
    "def conversion(dec):\n",
    "  print(f\"Binary form is {bin(dec)[2:]},Octal form is {oct(dec)[2:]},Hexadecimal form is {hex(dec)[2:]}\")"
   ]
  },
  {
   "cell_type": "code",
   "execution_count": 18,
   "metadata": {},
   "outputs": [
    {
     "name": "stdout",
     "output_type": "stream",
     "text": [
      "Binary form is 1100101,Octal form is 145,Hexadecimal form is 65\n"
     ]
    }
   ],
   "source": [
    "conversion(101)"
   ]
  },
  {
   "cell_type": "markdown",
   "metadata": {},
   "source": [
    "Q4). Write a Python Program To Find ASCII value of a character?"
   ]
  },
  {
   "cell_type": "code",
   "execution_count": 24,
   "metadata": {},
   "outputs": [],
   "source": [
    "def asciiValue(char):\n",
    "  try:\n",
    "    print(f\"Ascii value of {char} is {ord(char)}\")\n",
    "  except Exception as ee:\n",
    "    print(ee)"
   ]
  },
  {
   "cell_type": "code",
   "execution_count": 25,
   "metadata": {},
   "outputs": [
    {
     "name": "stdout",
     "output_type": "stream",
     "text": [
      "Ascii value of A is 65\n",
      "Ascii value of c is 99\n",
      "Ascii value of # is 35\n",
      "ord() expected string of length 1, but int found\n"
     ]
    }
   ],
   "source": [
    "asciiValue(\"A\")\n",
    "asciiValue(\"c\")\n",
    "asciiValue(\"#\")\n",
    "asciiValue(1)"
   ]
  },
  {
   "cell_type": "markdown",
   "metadata": {},
   "source": [
    "Q5). Write a Python Program to Make a Simple Calculator with 4 basic mathematical operations?"
   ]
  },
  {
   "cell_type": "code",
   "execution_count": 26,
   "metadata": {},
   "outputs": [
    {
     "name": "stdout",
     "output_type": "stream",
     "text": [
      "8547 / 745236 = 0.01146885013606428\n"
     ]
    }
   ],
   "source": [
    "num1 = int(input(\"1st Number : \"))\n",
    "num2 = int(input(\"2nd Number : \"))\n",
    "operator = input(\"Enter Operator : + , - , * , / \")\n",
    "\n",
    "if (operator == '+'):\n",
    "  print(f\"{num1} + {num2} = {num1+num2}\")\n",
    "elif (operator == '-'):\n",
    "  print(f\"{num1} - {num2} = {num1-num2}\")\n",
    "elif (operator == '*'):\n",
    "  print(f\"{num1} * {num2} = {num1*num2}\")\n",
    "elif (operator == '/'):\n",
    "  print(f\"{num1} / {num2} = {num1/num2}\")"
   ]
  },
  {
   "cell_type": "code",
   "execution_count": null,
   "metadata": {},
   "outputs": [],
   "source": []
  }
 ],
 "metadata": {
  "interpreter": {
   "hash": "4115ed5c76a8cf9526d491f3d3cfd5344e8c517e7f0ecef53fba9c911b5ffef1"
  },
  "kernelspec": {
   "display_name": "Python 3.8.12 ('MajorProject')",
   "language": "python",
   "name": "python3"
  },
  "language_info": {
   "codemirror_mode": {
    "name": "ipython",
    "version": 3
   },
   "file_extension": ".py",
   "mimetype": "text/x-python",
   "name": "python",
   "nbconvert_exporter": "python",
   "pygments_lexer": "ipython3",
   "version": "3.8.12"
  },
  "orig_nbformat": 4
 },
 "nbformat": 4,
 "nbformat_minor": 2
}
