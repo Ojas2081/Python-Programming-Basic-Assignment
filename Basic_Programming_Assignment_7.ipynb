{
 "cells": [
  {
   "cell_type": "markdown",
   "metadata": {},
   "source": [
    "Q1). Write a Python Program to find sum of array?"
   ]
  },
  {
   "cell_type": "code",
   "execution_count": 13,
   "metadata": {},
   "outputs": [
    {
     "name": "stdout",
     "output_type": "stream",
     "text": [
      "unsupported operand type(s) for +=: 'int' and 'str'\n",
      "21\n"
     ]
    }
   ],
   "source": [
    "def sumArray(arr):\n",
    "  sum1=0\n",
    "  for i in arr:\n",
    "    try:\n",
    "      sum1+=i\n",
    "    except Exception as e:\n",
    "      return e\n",
    "  return sum1\n",
    "\n",
    "l=[1,2,3,'o',5]\n",
    "print(sumArray(l))\n",
    "l1=[1,2,3,4,5,6]\n",
    "print(sumArray(l1))"
   ]
  },
  {
   "cell_type": "markdown",
   "metadata": {},
   "source": [
    "Q2). Write a Python Program to find largest element in an array?"
   ]
  },
  {
   "cell_type": "code",
   "execution_count": 14,
   "metadata": {},
   "outputs": [
    {
     "data": {
      "text/plain": [
       "74"
      ]
     },
     "execution_count": 14,
     "metadata": {},
     "output_type": "execute_result"
    }
   ],
   "source": [
    "def largest(arr):\n",
    "  maxx=arr[0]\n",
    "  for i in range(1,len(arr)):\n",
    "    if(arr[i]>maxx):\n",
    "      maxx=arr[i]\n",
    "  return maxx\n",
    "\n",
    "l=[2,4,3,3,6,74,3,34,32,2]\n",
    "largest(l)"
   ]
  },
  {
   "cell_type": "markdown",
   "metadata": {},
   "source": [
    "Q3). Write a Python Program for array rotation?"
   ]
  },
  {
   "cell_type": "code",
   "execution_count": 19,
   "metadata": {},
   "outputs": [
    {
     "data": {
      "text/plain": [
       "[3, 4, 5, 6, 1, 2]"
      ]
     },
     "execution_count": 19,
     "metadata": {},
     "output_type": "execute_result"
    }
   ],
   "source": [
    "def rotateArray(arr,rotNo):\n",
    "  for i in range(rotNo):\n",
    "    start=arr[0]\n",
    "    for i in range(len(arr)):\n",
    "      if(i==len(arr)-1):\n",
    "        arr[i]=start\n",
    "      else:\n",
    "        arr[i]=arr[i+1]\n",
    "  return arr\n",
    "l1=[1,2,3,4,5,6]\n",
    "rotateArray(l1,2)"
   ]
  },
  {
   "cell_type": "markdown",
   "metadata": {},
   "source": [
    "Q4). Write a Python Program to Split the array and add the first part to the end?"
   ]
  },
  {
   "cell_type": "code",
   "execution_count": 26,
   "metadata": {},
   "outputs": [],
   "source": [
    "def splitArray(arr,splitNo):\n",
    "  arr[:]=arr[splitNo:]+arr[:splitNo]\n",
    "  return arr"
   ]
  },
  {
   "cell_type": "code",
   "execution_count": 27,
   "metadata": {},
   "outputs": [
    {
     "data": {
      "text/plain": [
       "[3, 2, 1, 5, 4]"
      ]
     },
     "execution_count": 27,
     "metadata": {},
     "output_type": "execute_result"
    }
   ],
   "source": [
    "l1=[5,4,3,2,1]\n",
    "splitArray(l1,2)"
   ]
  },
  {
   "cell_type": "markdown",
   "metadata": {},
   "source": [
    "Q5). Write a Python Program to check if given array is Monotonic?"
   ]
  },
  {
   "cell_type": "code",
   "execution_count": 43,
   "metadata": {},
   "outputs": [],
   "source": [
    "def monotonic(arr):\n",
    "  arr1=sorted(arr)\n",
    "  arr2=sorted(arr,reverse=True)\n",
    "  if(arr==arr1 or arr==arr2):\n",
    "    return True\n",
    "  return False"
   ]
  },
  {
   "cell_type": "code",
   "execution_count": 45,
   "metadata": {},
   "outputs": [
    {
     "name": "stdout",
     "output_type": "stream",
     "text": [
      "True\n"
     ]
    }
   ],
   "source": [
    "print(monotonic([1,2,3,4,5]))"
   ]
  },
  {
   "cell_type": "code",
   "execution_count": null,
   "metadata": {},
   "outputs": [],
   "source": []
  }
 ],
 "metadata": {
  "interpreter": {
   "hash": "4115ed5c76a8cf9526d491f3d3cfd5344e8c517e7f0ecef53fba9c911b5ffef1"
  },
  "kernelspec": {
   "display_name": "Python 3.8.12 ('MajorProject')",
   "language": "python",
   "name": "python3"
  },
  "language_info": {
   "codemirror_mode": {
    "name": "ipython",
    "version": 3
   },
   "file_extension": ".py",
   "mimetype": "text/x-python",
   "name": "python",
   "nbconvert_exporter": "python",
   "pygments_lexer": "ipython3",
   "version": "3.8.12"
  },
  "orig_nbformat": 4
 },
 "nbformat": 4,
 "nbformat_minor": 2
}
