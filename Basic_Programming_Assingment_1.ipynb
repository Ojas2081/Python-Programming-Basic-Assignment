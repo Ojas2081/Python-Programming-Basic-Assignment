{
 "cells": [
  {
   "cell_type": "code",
   "execution_count": 1,
   "id": "09faa515",
   "metadata": {},
   "outputs": [
    {
     "name": "stdout",
     "output_type": "stream",
     "text": [
      "Hello Python\n"
     ]
    }
   ],
   "source": [
    "# Q1). Write a Python program to print \"Hello Python\"?\n",
    "\n",
    "print(\"Hello Python\")"
   ]
  },
  {
   "cell_type": "code",
   "execution_count": 2,
   "id": "94fd1d63",
   "metadata": {},
   "outputs": [
    {
     "name": "stdout",
     "output_type": "stream",
     "text": [
      "Addition is 9 and Division is 2.0\n"
     ]
    }
   ],
   "source": [
    "# Q2). Write a Python program to do arithmetical operations addition and division.?\n",
    "\n",
    "def arithmeticOperations(a,b):\n",
    "    add = a + b\n",
    "    div = a / b\n",
    "    return add,div\n",
    "\n",
    "addResult,divResult = arithmeticOperations(6,3)\n",
    "print(f\"Addition is {addResult} and Division is {divResult}\")"
   ]
  },
  {
   "cell_type": "code",
   "execution_count": 3,
   "id": "eed123a6",
   "metadata": {},
   "outputs": [
    {
     "name": "stdout",
     "output_type": "stream",
     "text": [
      "25.0\n"
     ]
    }
   ],
   "source": [
    "# Q3). Write a Python program to find the area of a triangle?\n",
    "\n",
    "def areaTriangle(base,height):\n",
    "    area = (1/2)*base*height\n",
    "    return area\n",
    "\n",
    "print(areaTriangle(5,10))"
   ]
  },
  {
   "cell_type": "code",
   "execution_count": 4,
   "id": "c042313d",
   "metadata": {},
   "outputs": [
    {
     "data": {
      "text/plain": [
       "(6, 3)"
      ]
     },
     "execution_count": 4,
     "metadata": {},
     "output_type": "execute_result"
    }
   ],
   "source": [
    "# Q4). Write a Python program to swap two variables?\n",
    "\n",
    "def swap(a,b):\n",
    "    a = a + b\n",
    "    b = a - b\n",
    "    a = a - b\n",
    "    return a , b\n",
    "\n",
    "swap(3,6)"
   ]
  },
  {
   "cell_type": "code",
   "execution_count": 5,
   "id": "8daba27d",
   "metadata": {},
   "outputs": [
    {
     "name": "stdout",
     "output_type": "stream",
     "text": [
      "38\n"
     ]
    }
   ],
   "source": [
    "# Q5). Write a Python program to generate a random number?\n",
    "\n",
    "import random\n",
    "print(random.randint(1,100))"
   ]
  },
  {
   "cell_type": "code",
   "execution_count": null,
   "id": "9c93ef66",
   "metadata": {},
   "outputs": [],
   "source": []
  }
 ],
 "metadata": {
  "kernelspec": {
   "display_name": "Python 3 (ipykernel)",
   "language": "python",
   "name": "python3"
  },
  "language_info": {
   "codemirror_mode": {
    "name": "ipython",
    "version": 3
   },
   "file_extension": ".py",
   "mimetype": "text/x-python",
   "name": "python",
   "nbconvert_exporter": "python",
   "pygments_lexer": "ipython3",
   "version": "3.9.7"
  }
 },
 "nbformat": 4,
 "nbformat_minor": 5
}
